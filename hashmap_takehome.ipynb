{
 "cells": [
  {
   "cell_type": "code",
   "execution_count": 1,
   "metadata": {},
   "outputs": [
    {
     "name": "stdout",
     "output_type": "stream",
     "text": [
      "True\n"
     ]
    }
   ],
   "source": [
    "# hashmap practice\n",
    "\n",
    "class AgeKey:\n",
    "    def __init__(self, name, age):\n",
    "        self.__age = age\n",
    "        self.__name = name\n",
    "        \n",
    "    def __hash__(self):\n",
    "#         prime = 31\n",
    "#         result = 1\n",
    "#         if self.__age:\n",
    "#             result = prime * result + self.__age\n",
    "#         elif self.__name == None:\n",
    "#             result = prime * result + 0\n",
    "#         else:\n",
    "#             result = id(self.__name)\n",
    "#         return result\n",
    "\n",
    "        \n",
    "        return id(self.__name)\n",
    "            \n",
    "       \n",
    "        \n",
    "    def __eq__(self, other):\n",
    "        if id(self) == id(other):\n",
    "            return True\n",
    "        if not id(other):\n",
    "            return False\n",
    "        elif not isinstance(other, AgeKey):\n",
    "            return False\n",
    "        elif self.__age != other.__age:\n",
    "            return False\n",
    "        else:\n",
    "            return self.__name == other.__name\n",
    "    \n",
    "student1 = AgeKey(\"Jim\", 15)\n",
    "dic_check = {}\n",
    "dic_check[student1] = 10 \n",
    "student2 = AgeKey(\"Jim\", 15)\n",
    "print(student2 in dic_check)\n",
    "\n",
    "        \n",
    "        "
   ]
  },
  {
   "cell_type": "code",
   "execution_count": 17,
   "metadata": {},
   "outputs": [
    {
     "name": "stdout",
     "output_type": "stream",
     "text": [
      "True\n"
     ]
    }
   ],
   "source": [
    "\n",
    "class DateKey:\n",
    "    def __init__(self, name, id):\n",
    "        self.__name = name\n",
    "        self.__id = id\n",
    "    \n",
    "    def __hash__(self):\n",
    "        prime = 31;\n",
    "        result = 1;\n",
    "        result = prime * result + self.__id;\n",
    "        result = prime * result + 0 if self.__name == None else id(self.__name);\n",
    "        return result;\n",
    "    \n",
    "    def __eq__(self, other):\n",
    "        if id(self) == id(other):\n",
    "            return True\n",
    "        if other==None:\n",
    "            return False\n",
    "        if not isinstance(other, DateKey):\n",
    "            return False\n",
    "        if self.__id != other.__id:\n",
    "            return False\n",
    "        return self.__name == other.__name\n",
    "        \n",
    "        \n",
    "        \n",
    "        \n",
    "a = DateKey(\"Tom1\", 123)\n",
    "dic = {}\n",
    "dic[a] = 10\n",
    "\n",
    "b = DateKey(\"Tom1\", 123)\n",
    "print(b in dic)"
   ]
  },
  {
   "cell_type": "code",
   "execution_count": null,
   "metadata": {},
   "outputs": [],
   "source": []
  },
  {
   "cell_type": "code",
   "execution_count": null,
   "metadata": {},
   "outputs": [],
   "source": []
  }
 ],
 "metadata": {
  "kernelspec": {
   "display_name": "Python 3",
   "language": "python",
   "name": "python3"
  },
  "language_info": {
   "codemirror_mode": {
    "name": "ipython",
    "version": 3
   },
   "file_extension": ".py",
   "mimetype": "text/x-python",
   "name": "python",
   "nbconvert_exporter": "python",
   "pygments_lexer": "ipython3",
   "version": "3.8.5"
  }
 },
 "nbformat": 4,
 "nbformat_minor": 4
}
